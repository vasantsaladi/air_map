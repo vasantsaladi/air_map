{
 "cells": [
  {
   "cell_type": "code",
   "execution_count": 1,
   "metadata": {},
   "outputs": [],
   "source": [
    "import pandas as pd\n",
    "import numpy as np\n",
    "from datetime import datetime"
   ]
  },
  {
   "cell_type": "code",
   "execution_count": 2,
   "metadata": {},
   "outputs": [],
   "source": [
    "def clean_tree_data(df, state_name):\n",
    "    # Convert 'observed_on' to datetime\n",
    "    df['observed_on'] = pd.to_datetime(df['observed_on'], errors='coerce')\n",
    "\n",
    "    # Remove future dates\n",
    "    current_date = datetime.now()\n",
    "    df = df[df['observed_on'] <= current_date]\n",
    "\n",
    "    # Standardize species names\n",
    "    tree_of_heaven_names = ['tree of heaven', 'tree-of-heaven', 'Tree-of-Heaven', 'Ailanthus altissima', 'Götterbaum', 'ailante glanduleux']\n",
    "    df['species_guess'] = df['species_guess'].str.lower().str.strip()\n",
    "    df.loc[df['species_guess'].isin([name.lower() for name in tree_of_heaven_names]), 'species_guess'] = 'tree-of-heaven'\n",
    "\n",
    "    # Remove rows with missing values in important columns\n",
    "    important_columns = ['id', 'observed_on', 'latitude', 'longitude', 'place_county_name', 'species_guess']\n",
    "    df = df.dropna(subset=important_columns)\n",
    "\n",
    "    # Remove duplicate entries\n",
    "    df = df.drop_duplicates(subset='id')\n",
    "\n",
    "    # Reset the index\n",
    "    df = df.reset_index(drop=True)\n",
    "\n",
    "    print(f\"\\n--- {state_name} Tree Data Statistics ---\")\n",
    "    print(f\"Total number of tree observations: {len(df)}\")\n",
    "    print(f\"Date range: {df['observed_on'].min()} to {df['observed_on'].max()}\")\n",
    "    print(f\"Number of unique counties: {df['place_county_name'].nunique()}\")\n",
    "    print(\"\\nTop 5 counties by number of observations:\")\n",
    "    print(df['place_county_name'].value_counts().head())\n",
    "    print(\"\\nNumber of observations by species:\")\n",
    "    print(df['species_guess'].value_counts())\n",
    "    print(f\"\\nAverage positional accuracy: {df['positional_accuracy'].mean():.2f}\")\n",
    "    print(f\"Median positional accuracy: {df['positional_accuracy'].median():.2f}\")\n",
    "\n",
    "    return df\n"
   ]
  },
  {
   "cell_type": "code",
   "execution_count": 3,
   "metadata": {},
   "outputs": [
    {
     "name": "stdout",
     "output_type": "stream",
     "text": [
      "\n",
      "--- Maryland Tree Data Statistics ---\n",
      "Total number of tree observations: 1619\n",
      "Date range: 2011-06-18 00:00:00 to 2024-10-03 00:00:00\n",
      "Number of unique counties: 23\n",
      "\n",
      "Top 5 counties by number of observations:\n",
      "place_county_name\n",
      "Montgomery            277\n",
      "Baltimore City, MD    258\n",
      "Baltimore             169\n",
      "Prince George's       155\n",
      "Frederick             144\n",
      "Name: count, dtype: int64\n",
      "\n",
      "Number of observations by species:\n",
      "species_guess\n",
      "tree-of-heaven         1608\n",
      "albero del paradiso       5\n",
      "айлант высочайший         3\n",
      "ailalt                    2\n",
      "árbol del cielo           1\n",
      "Name: count, dtype: int64\n",
      "\n",
      "Average positional accuracy: 110.33\n",
      "Median positional accuracy: 10.00\n"
     ]
    }
   ],
   "source": [
    "md_tree_data = pd.read_csv('/Users/vasantsaladi/Documents/GitHub/air_map/ML/Data/marylandtreeml.csv')\n",
    "md_tree_data_cleaned = clean_tree_data(md_tree_data, \"Maryland\")"
   ]
  },
  {
   "cell_type": "code",
   "execution_count": 4,
   "metadata": {},
   "outputs": [
    {
     "name": "stdout",
     "output_type": "stream",
     "text": [
      "\n",
      "--- Virginia Tree Data Statistics ---\n",
      "Total number of tree observations: 2450\n",
      "Date range: 2013-08-10 00:00:00 to 2024-10-02 00:00:00\n",
      "Number of unique counties: 112\n",
      "\n",
      "Top 5 counties by number of observations:\n",
      "place_county_name\n",
      "Fairfax           517\n",
      "Arlington         174\n",
      "Loudoun           152\n",
      "Richmond city     151\n",
      "Prince William    113\n",
      "Name: count, dtype: int64\n",
      "\n",
      "Number of observations by species:\n",
      "species_guess\n",
      "tree-of-heaven         2431\n",
      "айлант высочайший         8\n",
      "albero del paradiso       4\n",
      "árbol del cielo           2\n",
      "vascular plants           2\n",
      "dicots                    2\n",
      "staghorn sumac            1\n",
      "Name: count, dtype: int64\n",
      "\n",
      "Average positional accuracy: 85.19\n",
      "Median positional accuracy: 9.00\n"
     ]
    }
   ],
   "source": [
    "va_tree_data = pd.read_csv('/Users/vasantsaladi/Documents/GitHub/air_map/ML/Data/virginiatreeml.csv')\n",
    "va_tree_data_cleaned = clean_tree_data(va_tree_data, \"Virginia\")"
   ]
  },
  {
   "cell_type": "code",
   "execution_count": 6,
   "metadata": {},
   "outputs": [
    {
     "name": "stdout",
     "output_type": "stream",
     "text": [
      "\n",
      "Cleaned data saved to 'ML/Data/maryland_tree_data_cleaned.csv' and 'ML/Data/virginia_tree_data_cleaned.csv'\n"
     ]
    }
   ],
   "source": [
    "md_tree_data_cleaned.to_csv('/Users/vasantsaladi/Documents/GitHub/air_map/ML/Data/maryland_tree_data_cleaned.csv', index=False)\n",
    "va_tree_data_cleaned.to_csv('/Users/vasantsaladi/Documents/GitHub/air_map/ML/Data/virginia_tree_data_cleaned.csv', index=False)\n",
    "print(\"\\nCleaned data saved to 'ML/Data/maryland_tree_data_cleaned.csv' and 'ML/Data/virginia_tree_data_cleaned.csv'\")"
   ]
  }
 ],
 "metadata": {
  "kernelspec": {
   "display_name": "spfly",
   "language": "python",
   "name": "python3"
  },
  "language_info": {
   "codemirror_mode": {
    "name": "ipython",
    "version": 3
   },
   "file_extension": ".py",
   "mimetype": "text/x-python",
   "name": "python",
   "nbconvert_exporter": "python",
   "pygments_lexer": "ipython3",
   "version": "3.11.10"
  }
 },
 "nbformat": 4,
 "nbformat_minor": 2
}
