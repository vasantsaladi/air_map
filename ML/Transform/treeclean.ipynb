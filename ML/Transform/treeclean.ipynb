{
 "cells": [
  {
   "cell_type": "code",
   "execution_count": null,
   "metadata": {},
   "outputs": [],
   "source": [
    "import pandas as pd\n",
    "import numpy as np\n",
    "from datetime import datetime"
   ]
  },
  {
   "cell_type": "code",
   "execution_count": null,
   "metadata": {},
   "outputs": [],
   "source": [
    "def clean_tree_data(df, state_name):\n",
    "    # Convert 'observed_on' to datetime\n",
    "    df['observed_on'] = pd.to_datetime(df['observed_on'], errors='coerce')\n",
    "\n",
    "    # Remove future dates\n",
    "    current_date = datetime.now()\n",
    "    df = df[df['observed_on'] <= current_date]\n",
    "\n",
    "    # Standardize species names\n",
    "    tree_of_heaven_names = ['tree of heaven', 'tree-of-heaven', 'Tree-of-Heaven', 'Ailanthus altissima', 'Götterbaum', 'ailante glanduleux']\n",
    "    df['species_guess'] = df['species_guess'].str.lower().str.strip()\n",
    "    df.loc[df['species_guess'].isin([name.lower() for name in tree_of_heaven_names]), 'species_guess'] = 'tree-of-heaven'\n",
    "\n",
    "    # Remove rows with missing values in important columns\n",
    "    important_columns = ['id', 'observed_on', 'latitude', 'longitude', 'place_county_name', 'species_guess']\n",
    "    df = df.dropna(subset=important_columns)\n",
    "\n",
    "    # Remove duplicate entries\n",
    "    df = df.drop_duplicates(subset='id')\n",
    "\n",
    "    # Reset the index\n",
    "    df = df.reset_index(drop=True)\n",
    "\n",
    "    print(f\"\\n--- {state_name} Tree Data Statistics ---\")\n",
    "    print(f\"Total number of tree observations: {len(df)}\")\n",
    "    print(f\"Date range: {df['observed_on'].min()} to {df['observed_on'].max()}\")\n",
    "    print(f\"Number of unique counties: {df['place_county_name'].nunique()}\")\n",
    "    print(\"\\nTop 5 counties by number of observations:\")\n",
    "    print(df['place_county_name'].value_counts().head())\n",
    "    print(\"\\nNumber of observations by species:\")\n",
    "    print(df['species_guess'].value_counts())\n",
    "    print(f\"\\nAverage positional accuracy: {df['positional_accuracy'].mean():.2f}\")\n",
    "    print(f\"Median positional accuracy: {df['positional_accuracy'].median():.2f}\")\n",
    "\n",
    "    return df\n"
   ]
  },
  {
   "cell_type": "code",
   "execution_count": null,
   "metadata": {},
   "outputs": [],
   "source": [
    "md_tree_data = pd.read_csv('/Users/vasantsaladi/Documents/GitHub/air_map/ML/Data/marylandtreeml.csv')\n",
    "md_tree_data_cleaned = clean_tree_data(md_tree_data, \"Maryland\")"
   ]
  },
  {
   "cell_type": "code",
   "execution_count": null,
   "metadata": {},
   "outputs": [],
   "source": [
    "va_tree_data = pd.read_csv('/Users/vasantsaladi/Documents/GitHub/air_map/ML/Data/virginiatreeml.csv')\n",
    "va_tree_data_cleaned = clean_tree_data(va_tree_data, \"Virginia\")"
   ]
  }
 ],
 "metadata": {
  "kernelspec": {
   "display_name": "spfly",
   "language": "python",
   "name": "python3"
  },
  "language_info": {
   "name": "python",
   "version": "3.11.10"
  }
 },
 "nbformat": 4,
 "nbformat_minor": 2
}
