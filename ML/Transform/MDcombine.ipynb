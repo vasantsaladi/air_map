{
 "cells": [
  {
   "cell_type": "code",
   "execution_count": 70,
   "metadata": {},
   "outputs": [],
   "source": [
    "import pandas as pd\n",
    "import numpy as np\n",
    "from datetime import datetime"
   ]
  },
  {
   "cell_type": "code",
   "execution_count": 71,
   "metadata": {},
   "outputs": [],
   "source": [
    "\n",
    "# Load the data\n",
    "df = pd.read_csv('/Users/vasantsaladi/Documents/GitHub/air_map/ML/Data/marylandflyml.csv')"
   ]
  },
  {
   "cell_type": "code",
   "execution_count": 72,
   "metadata": {},
   "outputs": [],
   "source": [
    "# Convert 'observed_on' to datetime\n",
    "df['observed_on'] = pd.to_datetime(df['observed_on'], errors='coerce')"
   ]
  },
  {
   "cell_type": "code",
   "execution_count": 73,
   "metadata": {},
   "outputs": [],
   "source": [
    "# Remove rows with missing values in important columns\n",
    "important_columns = ['id', 'observed_on', 'latitude', 'longitude', 'place_county_name', 'species_guess']\n",
    "df = df.dropna(subset=important_columns)"
   ]
  },
  {
   "cell_type": "code",
   "execution_count": 74,
   "metadata": {},
   "outputs": [],
   "source": [
    "\n",
    "  # Ensure consistent formatting for species names\n",
    "df['species_guess'] = df['species_guess'].str.lower().str.strip()"
   ]
  },
  {
   "cell_type": "code",
   "execution_count": 75,
   "metadata": {},
   "outputs": [],
   "source": [
    "# Remove duplicate entries\n",
    "df = df.drop_duplicates()"
   ]
  },
  {
   "cell_type": "code",
   "execution_count": 76,
   "metadata": {},
   "outputs": [],
   "source": [
    "\n",
    "# Reset the index\n",
    "df = df.reset_index(drop=True)"
   ]
  },
  {
   "cell_type": "code",
   "execution_count": 77,
   "metadata": {},
   "outputs": [
    {
     "name": "stdout",
     "output_type": "stream",
     "text": [
      "Total number of observations: 4001\n",
      "Date range: 2019-09-29 00:00:00 to 2024-10-05 00:00:00\n",
      "Number of unique counties: 18\n",
      "\n",
      "Top 5 counties by number of observations:\n",
      "place_county_name\n",
      "Baltimore             962\n",
      "Baltimore City, MD    616\n",
      "Howard                392\n",
      "Washington            320\n",
      "Harford               286\n",
      "Name: count, dtype: int64\n",
      "\n",
      "Number of observations by species:\n",
      "species_guess\n",
      "spotted lanternfly           3978\n",
      "lycorma delicatula             16\n",
      "chinche linterna manchada       4\n",
      "斑衣蜡蝉                            2\n",
      "シタベニハゴロモ                        1\n",
      "Name: count, dtype: int64\n"
     ]
    }
   ],
   "source": [
    "print(f\"Total number of observations: {len(df)}\")\n",
    "print(f\"Date range: {df['observed_on'].min()} to {df['observed_on'].max()}\")\n",
    "print(f\"Number of unique counties: {df['place_county_name'].nunique()}\")\n",
    "print(\"\\nTop 5 counties by number of observations:\")\n",
    "print(df['place_county_name'].value_counts().head())\n",
    "print(\"\\nNumber of observations by species:\")\n",
    "print(df['species_guess'].value_counts())"
   ]
  },
  {
   "cell_type": "code",
   "execution_count": 78,
   "metadata": {},
   "outputs": [
    {
     "name": "stdout",
     "output_type": "stream",
     "text": [
      "\n",
      "Cleaned data saved to marylandflyml.csv\n"
     ]
    }
   ],
   "source": [
    "# Save the cleaned data\n",
    "df.to_csv('/Users/vasantsaladi/Documents/GitHub/air_map/ML/Data/marylandflyml.csv', index=False)\n",
    "print(\"\\nCleaned data saved to marylandflyml.csv\")"
   ]
  }
 ],
 "metadata": {
  "kernelspec": {
   "display_name": "spfly",
   "language": "python",
   "name": "python3"
  },
  "language_info": {
   "codemirror_mode": {
    "name": "ipython",
    "version": 3
   },
   "file_extension": ".py",
   "mimetype": "text/x-python",
   "name": "python",
   "nbconvert_exporter": "python",
   "pygments_lexer": "ipython3",
   "version": "3.11.10"
  }
 },
 "nbformat": 4,
 "nbformat_minor": 2
}
