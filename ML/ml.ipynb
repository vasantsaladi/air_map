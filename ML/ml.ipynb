{
 "cells": [
  {
   "cell_type": "code",
   "execution_count": null,
   "metadata": {},
   "outputs": [],
   "source": [
    "import pandas as pd\n",
    "import folium\n",
    "from folium.plugins import MarkerCluster"
   ]
  },
  {
   "cell_type": "code",
   "execution_count": null,
   "metadata": {},
   "outputs": [],
   "source": [
    "md_fly_data = pd.read_csv('/Users/vasantsaladi/Documents/GitHub/air_map/ML/Data/marylandflyml_cleaned.csv')\n",
    "md_tree_data = pd.read_csv('/Users/vasantsaladi/Documents/GitHub/air_map/ML/Data/maryland_tree_data_cleaned.csv')\n",
    "va_fly_data = pd.read_csv('/Users/vasantsaladi/Documents/GitHub/air_map/ML/Data/virginiaflyml_cleaned.csv')\n",
    "va_tree_data = pd.read_csv('/Users/vasantsaladi/Documents/GitHub/air_map/ML/Data/virginia_tree_data_cleaned.csv')"
   ]
  },
  {
   "cell_type": "code",
   "execution_count": null,
   "metadata": {},
   "outputs": [],
   "source": [
    "\n",
    "# Combine Maryland and Virginia data\n",
    "fly_data = pd.concat([md_fly_data, va_fly_data])\n",
    "tree_data = pd.concat([md_tree_data, va_tree_data])\n"
   ]
  },
  {
   "cell_type": "code",
   "execution_count": null,
   "metadata": {},
   "outputs": [],
   "source": [
    "# Create a map centered on the mean coordinates of all data points\n",
    "center_lat = (fly_data['latitude'].mean() + tree_data['latitude'].mean()) / 2\n",
    "center_lon = (fly_data['longitude'].mean() + tree_data['longitude'].mean()) / 2\n",
    "m = folium.Map(location=[center_lat, center_lon], zoom_start=7)\n"
   ]
  },
  {
   "cell_type": "code",
   "execution_count": null,
   "metadata": {},
   "outputs": [],
   "source": [
    "# Add fly markers\n",
    "fly_cluster = MarkerCluster(name=\"Spotted Lanternflies\")\n",
    "for idx, row in fly_data.iterrows():\n",
    "    folium.Marker(\n",
    "        location=[row['latitude'], row['longitude']],\n",
    "        popup=f\"Fly: {row['species_guess']}\",\n",
    "        icon=folium.Icon(color='red', icon='bug', prefix='fa')\n",
    "    ).add_to(fly_cluster)\n",
    "\n",
    "# Add tree markers\n",
    "tree_cluster = MarkerCluster(name=\"Trees of Heaven\")\n",
    "for idx, row in tree_data.iterrows():\n",
    "    folium.Marker(\n",
    "        location=[row['latitude'], row['longitude']],\n",
    "        popup=f\"Tree: {row['species_guess']}\",\n",
    "        icon=folium.Icon(color='green', icon='tree', prefix='fa')\n",
    "    ).add_to(tree_cluster)"
   ]
  },
  {
   "cell_type": "code",
   "execution_count": null,
   "metadata": {},
   "outputs": [],
   "source": [
    "# Add marker clusters to the map\n",
    "fly_cluster.add_to(m)\n",
    "tree_cluster.add_to(m)\n",
    "\n",
    "# Add layer control\n",
    "folium.LayerControl().add_to(m)\n",
    "\n",
    "# Add state boundaries\n",
    "folium.GeoJson(\n",
    "    'https://raw.githubusercontent.com/python-visualization/folium/master/examples/data/us-states.json',\n",
    "    style_function=lambda feature: {\n",
    "        'fillColor': 'transparent',\n",
    "        'color': 'black',\n",
    "        'weight': 2,\n",
    "        'fillOpacity': 0,\n",
    "    },\n",
    "    name='State Boundaries'\n",
    ").add_to(m)\n"
   ]
  },
  {
   "cell_type": "code",
   "execution_count": null,
   "metadata": {},
   "outputs": [],
   "source": [
    "m.save(\"maryland_virginia_flies_and_trees.html\")\n",
    "\n",
    "print(\"Map saved as 'maryland_virginia_flies_and_trees.html'\")"
   ]
  }
 ],
 "metadata": {
  "kernelspec": {
   "display_name": "spfly",
   "language": "python",
   "name": "python3"
  },
  "language_info": {
   "codemirror_mode": {
    "name": "ipython",
    "version": 3
   },
   "file_extension": ".py",
   "mimetype": "text/x-python",
   "name": "python",
   "nbconvert_exporter": "python",
   "pygments_lexer": "ipython3",
   "version": "3.11.10"
  }
 },
 "nbformat": 4,
 "nbformat_minor": 2
}
